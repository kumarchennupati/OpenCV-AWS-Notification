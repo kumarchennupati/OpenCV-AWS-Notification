{
 "cells": [
  {
   "cell_type": "code",
   "execution_count": 2,
   "metadata": {},
   "outputs": [
    {
     "name": "stderr",
     "output_type": "stream",
     "text": [
      "<>:15: SyntaxWarning: \"is\" with a literal. Did you mean \"==\"?\n",
      "<>:15: SyntaxWarning: \"is\" with a literal. Did you mean \"==\"?\n"
     ]
    },
    {
     "name": "stdout",
     "output_type": "stream",
     "text": [
      "User Id =2\n",
      "Name =sankeerth\n"
     ]
    },
    {
     "name": "stderr",
     "output_type": "stream",
     "text": [
      "<ipython-input-2-c009f754eca1>:15: SyntaxWarning: \"is\" with a literal. Did you mean \"==\"?\n",
      "  if faces is ():\n"
     ]
    },
    {
     "name": "stdout",
     "output_type": "stream",
     "text": [
      "Collecting Samples Complete\n"
     ]
    }
   ],
   "source": [
    "import cv2\n",
    "\n",
    "# Load HAAR face classifier\n",
    "face_classifier = cv2.CascadeClassifier('haarcascade_frontalface_default.xml')\n",
    "ID = input (\"User Id =\")\n",
    "Name = input(\"Name =\")\n",
    "\n",
    "\n",
    "# Load functions\n",
    "def face_extractor(img):\n",
    "\n",
    "    gray = cv2.cvtColor(img,cv2.COLOR_BGR2GRAY)\n",
    "    faces = face_classifier.detectMultiScale(gray, 1.3, 5)\n",
    "    \n",
    "    if faces is ():\n",
    "        return None\n",
    "    \n",
    "    for (x,y,w,h) in faces:\n",
    "        cropped_face = img[y:y+h, x:x+w]\n",
    "\n",
    "    return cropped_face\n",
    "\n",
    "cap = cv2.VideoCapture(0)\n",
    "count = 0\n",
    "\n",
    "while True:\n",
    "\n",
    "    ret, frame = cap.read()\n",
    "    if face_extractor(frame) is not None:\n",
    "        count += 1\n",
    "        face = cv2.resize(face_extractor(frame), (200, 200))\n",
    "        face = cv2.cvtColor(face, cv2.COLOR_BGR2GRAY)\n",
    "\n",
    "        file_name_path = './faces/'+ Name+ \".\"+ ID +\".\" + str(count) + '.jpg'\n",
    "        cv2.imwrite(file_name_path, face)\n",
    "\n",
    "        cv2.putText(face, str(count), (50, 50), cv2.FONT_HERSHEY_COMPLEX, 1, (0,255,0), 2)\n",
    "        cv2.imshow('Face Cropper', face)\n",
    "        \n",
    "    else:\n",
    "        print(\"Face not found\")\n",
    "        pass\n",
    "\n",
    "    if cv2.waitKey(1) == 13 or count == 100: #13 is the Enter Key\n",
    "        break\n",
    "        \n",
    "cap.release()\n",
    "cv2.destroyAllWindows()      \n",
    "print(\"Collecting Samples Complete\")"
   ]
  },
  {
   "cell_type": "code",
   "execution_count": 3,
   "metadata": {},
   "outputs": [],
   "source": [
    "import os\n",
    "import cv2\n",
    "import numpy as np\n",
    "\n",
    "from PIL import Image\n",
    "\n",
    "def getImagesAndLabels(path):\n",
    "    imagePaths = [os.path.join(path, f) for f in os.listdir(path)]\n",
    "    faceSamples = []\n",
    "    Ids = []\n",
    "    for imagePath in imagePaths:\n",
    "        pilImage = Image.open(imagePath).convert('L')\n",
    "        imageNp = np.array(pilImage, 'uint8')\n",
    "\n",
    "        Id = int(os.path.split(imagePath)[-1].split(\".\")[1])\n",
    "        faces = detector.detectMultiScale(imageNp)\n",
    "        for (x, y, w, h) in faces:\n",
    "            faceSamples.append(imageNp[y:y + h, x:x + w])\n",
    "            Ids.append(Id)\n",
    "    return faceSamples, Ids\n",
    "\n",
    "recognizer = cv2.face.LBPHFaceRecognizer_create()\n",
    "global detector\n",
    "detector = cv2.CascadeClassifier(\"haarcascade_frontalface_default.xml\")\n",
    "global faces,Id\n",
    "faces, Id = getImagesAndLabels(\"./faces/\")\n",
    "recognizer.train(faces, np.array(Id)) \n",
    "recognizer.save(\"./trained_model.yml\")\n"
   ]
  },
  {
   "cell_type": "code",
   "execution_count": null,
   "metadata": {},
   "outputs": [],
   "source": [
    "import cv2\n",
    "import numpy as np\n",
    "import mypass\n",
    "from twilio.rest import Client\n",
    "import pandas as pd\n",
    "import smtplib\n",
    "from email.message import EmailMessage\n",
    "import os\n",
    "\n",
    "conf1 = 0\n",
    "Id1 = 0\n",
    "count = 0\n",
    "recognizer = cv2.face.LBPHFaceRecognizer_create()\n",
    "recognizer.read('trained_model.yml')\n",
    "cascadePath = \"haarcascade_frontalface_default.xml\"\n",
    "faceCascade = cv2.CascadeClassifier(cascadePath)\n",
    "font = cv2.FONT_HERSHEY_SIMPLEX\n",
    "\n",
    "cam = cv2.VideoCapture(0)\n",
    "while True:\n",
    "    ret, im =cam.read()\n",
    "    gray=cv2.cvtColor(im,cv2.COLOR_BGR2GRAY)\n",
    "    faces=faceCascade.detectMultiScale(gray, 1.2,5)\n",
    "    \n",
    "    for(x,y,w,h) in faces:\n",
    "        Id, conf = recognizer.predict(gray[y:y+h,x:x+w])\n",
    "        conf1 = conf\n",
    "        Id1 = Id\n",
    "        cv2.rectangle(im, (x, y), (x + w, y + h), (0, 260, 0), 7)\n",
    "        cv2.putText(im, str(Id), (x,y-40),font, 2, (255,255,255), 3)\n",
    "    cv2.imshow('im',im)\n",
    "    \n",
    "    if conf1 > 40 and count == 0 :\n",
    "        if Id1 == 1:\n",
    "            client = Client(mypass.twilio_sid, mypass.twilio_auth_token)\n",
    "            message = client.messages.create(body='Hii I have detected some face', from_=[+12159874336], to=mypass.phone_number)        \n",
    "            message = client.messages.create(from_='whatsapp:+14155238886',body='Hello, We have detected a face',to='whatsapp:'+mypass.phone_number[0]) \n",
    "\n",
    "            SenderAddress = mypass.from_mail\n",
    "            password = mypass.mail_pass\n",
    "            emails = mypass.to_mail\n",
    "            server = smtplib.SMTP(\"smtp.gmail.com\", 587)\n",
    "            server.starttls()\n",
    "            server.login(SenderAddress, password)\n",
    "            msg = \"Hello I have detected some face\"\n",
    "            subject = \"Alert Face Detected\"\n",
    "            body = \"Subject: {}\\n\\n{}\".format(subject,msg)\n",
    "            server.sendmail(SenderAddress, emails,  body)\n",
    "            server.quit()\n",
    "            count = count + 1\n",
    "    \n",
    "        if Id1 == 2:\n",
    "            os.system(\"terraform init\")\n",
    "            os.system(\"terraform apply --auto-approve\")\n",
    "    \n",
    "    if cv2.waitKey(10) and 0xFF==ord('q'):\n",
    "        break\n",
    "\n",
    "cam.release()\n",
    "cv2.destroyAllWindows()"
   ]
  },
  {
   "cell_type": "code",
   "execution_count": null,
   "metadata": {},
   "outputs": [],
   "source": []
  }
 ],
 "metadata": {
  "kernelspec": {
   "display_name": "Python 3",
   "language": "python",
   "name": "python3"
  },
  "language_info": {
   "codemirror_mode": {
    "name": "ipython",
    "version": 3
   },
   "file_extension": ".py",
   "mimetype": "text/x-python",
   "name": "python",
   "nbconvert_exporter": "python",
   "pygments_lexer": "ipython3",
   "version": "3.8.3"
  }
 },
 "nbformat": 4,
 "nbformat_minor": 5
}
